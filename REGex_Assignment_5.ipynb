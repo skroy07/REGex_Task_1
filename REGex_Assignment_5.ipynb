{
 "cells": [
  {
   "cell_type": "markdown",
   "metadata": {},
   "source": [
    "#  TASK 5\n"
   ]
  },
  {
   "cell_type": "markdown",
   "metadata": {},
   "source": [
    "## Registration ID: SIRSS2249\n"
   ]
  },
  {
   "cell_type": "markdown",
   "metadata": {},
   "source": [
    "## Name: Suraj Kumar Roy"
   ]
  },
  {
   "cell_type": "code",
   "execution_count": 1,
   "metadata": {},
   "outputs": [
    {
     "name": "stdout",
     "output_type": "stream",
     "text": [
      "Sum of all prime numbers: 69\n"
     ]
    }
   ],
   "source": [
    "'''#Q1. Given a list of integers, write a function to return the sum of all prime numbers in that list.'''\n",
    "\n",
    "def prime(lst):\n",
    "    sum = 0\n",
    "    for num in lst:\n",
    "        i = 2\n",
    "        p = 1\n",
    "        while i <= num / 2:\n",
    "            if num % i == 0:\n",
    "                p = 0\n",
    "                break\n",
    "            i = i + 1\n",
    "        if p == 1:\n",
    "            sum = sum + num\n",
    "    return sum\n",
    "\n",
    "\n",
    "lst = [2, 4, 6, 7, 8, 34, 37, 23]\n",
    "sum = prime(lst)\n",
    "print(\"Sum of all prime numbers:\", sum)"
   ]
  },
  {
   "cell_type": "code",
   "execution_count": 2,
   "metadata": {},
   "outputs": [
    {
     "name": "stdout",
     "output_type": "stream",
     "text": [
      "The list is strictly increasing\n"
     ]
    }
   ],
   "source": [
    "'''Q2. Given a list of integers, write a function to check whether the list is strictly increasing or not.'''\n",
    "\n",
    "def check(num):\n",
    "      if len(num) <= 2:\n",
    "         return True\n",
    "      if len(set(num)) != len(num):\n",
    "         return False\n",
    "      ordered = sorted(num)\n",
    "      return num == ordered or num == ordered[::-1]\n",
    "lst = [2, 4, 6, 7, 8, 34, 37]\n",
    "if check(lst):\n",
    "    print('The list is strictly increasing')\n",
    "else: \n",
    "    print('The list is not strictly increasing')"
   ]
  },
  {
   "cell_type": "code",
   "execution_count": 3,
   "metadata": {},
   "outputs": [
    {
     "name": "stdout",
     "output_type": "stream",
     "text": [
      "The list is not expanding\n"
     ]
    }
   ],
   "source": [
    "'''Q3. Write a function to check whether a given list is expanding or not (the difference between adjacent elements should \n",
    "keep on increasing).'''\n",
    "\n",
    "def expd(l):\n",
    "    for i in range(0,len(l)-2):\n",
    "        if (abs(l[i+2]-l[i+1])<=abs(l[i+1]-l[i])):\n",
    "            return False\n",
    "        else: \n",
    "            return True\n",
    "lst = [2, 4, 6, 7, 8, 34, 37]\n",
    "if expd(lst):\n",
    "    print('The list is expanding')\n",
    "else: \n",
    "    print('The list is not expanding')"
   ]
  },
  {
   "cell_type": "code",
   "execution_count": 4,
   "metadata": {},
   "outputs": [
    {
     "data": {
      "text/plain": [
       "['IND', 'NID', 'NDI', 'IDN', 'DIN', 'DNI']"
      ]
     },
     "execution_count": 4,
     "metadata": {},
     "output_type": "execute_result"
    }
   ],
   "source": [
    "'''Q4. Write a function to calculate all permutations of a given string.'''\n",
    "\n",
    "def permutation(str) :\n",
    "    if len(str) == 1 :\n",
    "        return [str]\n",
    "    pr = permutation(str[1:])\n",
    "    fst = str[0]\n",
    "    rslt = []\n",
    "    for i in pr :\n",
    "        for j in range(len(i)+1) :\n",
    "            rslt.append(i[:j] + fst + i[j:])\n",
    "    return rslt\n",
    "\n",
    "\n",
    "input_string = 'IND'\n",
    "permutation(input_string)"
   ]
  },
  {
   "cell_type": "code",
   "execution_count": null,
   "metadata": {},
   "outputs": [],
   "source": []
  }
 ],
 "metadata": {
  "kernelspec": {
   "display_name": "Python 3",
   "language": "python",
   "name": "python3"
  },
  "language_info": {
   "codemirror_mode": {
    "name": "ipython",
    "version": 3
   },
   "file_extension": ".py",
   "mimetype": "text/x-python",
   "name": "python",
   "nbconvert_exporter": "python",
   "pygments_lexer": "ipython3",
   "version": "3.8.5"
  }
 },
 "nbformat": 4,
 "nbformat_minor": 4
}
