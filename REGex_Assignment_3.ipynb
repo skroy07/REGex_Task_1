{
 "cells": [
  {
   "cell_type": "markdown",
   "metadata": {},
   "source": [
    "# TASK 3\n"
   ]
  },
  {
   "cell_type": "markdown",
   "metadata": {},
   "source": [
    "## Registration ID: SIRSS2249\n"
   ]
  },
  {
   "cell_type": "markdown",
   "metadata": {},
   "source": [
    "## Name: Suraj Kumar Roy"
   ]
  },
  {
   "cell_type": "code",
   "execution_count": 1,
   "metadata": {},
   "outputs": [
    {
     "name": "stdout",
     "output_type": "stream",
     "text": [
      "Enter the number of terms: 10\n",
      "Fibonacci sequence:\n",
      "0\n",
      "1\n",
      "1\n",
      "2\n",
      "3\n",
      "5\n",
      "8\n",
      "13\n",
      "21\n",
      "34\n"
     ]
    }
   ],
   "source": [
    "'''Q1. Write a function to return nth term of Fibonacci sequence.'''\n",
    "\n",
    "def fibo(n):\n",
    "   if n <= 1:\n",
    "       return n\n",
    "   else:\n",
    "       return(fibo(n-1) + fibo(n-2))\n",
    "\n",
    "nterms = int(input(\"Enter the number of terms: \"))\n",
    "\n",
    "if nterms <= 0:\n",
    "   print(\"Plese enter a positive integer\")\n",
    "else:\n",
    "   print(\"Fibonacci sequence:\")\n",
    "   for i in range(nterms):\n",
    "       print(fibo(i))\n"
   ]
  },
  {
   "cell_type": "code",
   "execution_count": 2,
   "metadata": {},
   "outputs": [
    {
     "name": "stdout",
     "output_type": "stream",
     "text": [
      "Enter the 1st number: 20\n",
      "Enter the 2nd number: 50\n",
      "GCD of 20 and 50 is 10\n"
     ]
    }
   ],
   "source": [
    "'''Q2. Write a function to find out GCD of two numbers using EUCLID's algorithm.'''\n",
    "\n",
    "def gcd(a, b):\n",
    "  \n",
    "    if (a == 0):\n",
    "        return b\n",
    "    elif (b == 0):\n",
    "        return a\n",
    "  \n",
    "    elif (a == b):\n",
    "        return a\n",
    "  \n",
    "    elif (a > b):\n",
    "        return gcd(a-b, b)\n",
    "    \n",
    "    else:\n",
    "        return gcd(a, b-a)\n",
    "\n",
    "a = int (input (\"Enter the 1st number: \"))\n",
    "b = int (input (\"Enter the 2nd number: \"))\n",
    "if(gcd(a, b)):\n",
    "    print('GCD of', a, 'and', b, 'is', gcd(a, b))\n",
    "else:\n",
    "    print('NA')"
   ]
  },
  {
   "cell_type": "code",
   "execution_count": 3,
   "metadata": {},
   "outputs": [
    {
     "name": "stdout",
     "output_type": "stream",
     "text": [
      "Enter the 1st number: 34\n",
      "Enter the 2nd number: 4\n",
      "LCM of 34 and 4 is 68\n"
     ]
    }
   ],
   "source": [
    "'''Q3. Write a function to find LCM of two number in most optimizers way.'''\n",
    "\n",
    "def lcm(a, b):\n",
    "\n",
    "   if a > b:\n",
    "       greater = a\n",
    "   else:\n",
    "       greater = b\n",
    "\n",
    "   while(True):\n",
    "       if((greater % a == 0) and (greater % b == 0)):\n",
    "           lcm = greater\n",
    "           break\n",
    "       greater += 1\n",
    "\n",
    "   return lcm\n",
    "\n",
    "a = int (input (\"Enter the 1st number: \"))\n",
    "b = int (input (\"Enter the 2nd number: \"))\n",
    "\n",
    "print(\"LCM of\", a, \"and\", b, \"is\", lcm(a, b))"
   ]
  },
  {
   "cell_type": "code",
   "execution_count": null,
   "metadata": {},
   "outputs": [],
   "source": []
  }
 ],
 "metadata": {
  "kernelspec": {
   "display_name": "Python 3",
   "language": "python",
   "name": "python3"
  },
  "language_info": {
   "codemirror_mode": {
    "name": "ipython",
    "version": 3
   },
   "file_extension": ".py",
   "mimetype": "text/x-python",
   "name": "python",
   "nbconvert_exporter": "python",
   "pygments_lexer": "ipython3",
   "version": "3.8.5"
  }
 },
 "nbformat": 4,
 "nbformat_minor": 4
}
