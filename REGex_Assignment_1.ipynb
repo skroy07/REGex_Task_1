{
 "cells": [
  {
   "cell_type": "markdown",
   "metadata": {},
   "source": [
    "# TASK 1\n",
    "### Registration ID: SIRSS2249\n",
    "### Name: Suraj Kumar Roy"
   ]
  },
  {
   "cell_type": "code",
   "execution_count": 2,
   "metadata": {},
   "outputs": [
    {
     "name": "stdout",
     "output_type": "stream",
     "text": [
      "Enter the no. of rows you want to print:5\n",
      "5 5 5 5 5  \n",
      "5 5 5 5  \n",
      "5 5 5  \n",
      "5 5  \n",
      "5  \n"
     ]
    }
   ],
   "source": [
    "'''1. inverted pyramid pattern with same digit 5\n",
    "5 5 5 5 5  \n",
    "5 5 5 5  \n",
    "5 5 5  \n",
    "5 5  \n",
    "5 \n",
    "'''\n",
    "\n",
    "rows = int(input('Enter the no. of rows you want to print:'))\n",
    "num = rows\n",
    "\n",
    "for i in range(rows, 0, -1):\n",
    "    for j in range (0, i):\n",
    "        print (num, end= ' ')\n",
    "    print (' ')"
   ]
  },
  {
   "cell_type": "code",
   "execution_count": 3,
   "metadata": {},
   "outputs": [
    {
     "name": "stdout",
     "output_type": "stream",
     "text": [
      "Enter the no. of rows you want to print:5\n",
      "0 1 2 3 4 5 \n",
      "0 1 2 3 4 \n",
      "0 1 2 3 \n",
      "0 1 2 \n",
      "0 1 \n"
     ]
    }
   ],
   "source": [
    "'''2. inverted pyramid with numbers in reverse order\n",
    "0 1 2 3 4 5 \n",
    "0 1 2 3 4 \n",
    "0 1 2 3 \n",
    "0 1 2 \n",
    "0 1\n",
    "'''\n",
    "\n",
    "rows = int(input('Enter the no. of rows you want to print:'))\n",
    "for i in range (rows, 0, -1):\n",
    "    for j in range (0, i+1):\n",
    "        print (j, end=' ')\n",
    "    print ('')"
   ]
  },
  {
   "cell_type": "code",
   "execution_count": 4,
   "metadata": {},
   "outputs": [
    {
     "name": "stdout",
     "output_type": "stream",
     "text": [
      "Enter the no. of rows you want to print:5\n",
      "1 \n",
      "3 3 \n",
      "5 5 5 \n",
      "7 7 7 7 \n",
      "9 9 9 9 9 \n"
     ]
    }
   ],
   "source": [
    "'''3. odd numbers pyramid pattern\n",
    "1 \n",
    "3 3 \n",
    "5 5 5 \n",
    "7 7 7 7 \n",
    "9 9 9 9 9\n",
    "'''\n",
    "\n",
    "rows = int(input('Enter the no. of rows you want to print:'))\n",
    "i=1\n",
    "while i<=rows:\n",
    "    j=1\n",
    "    while j<=i:\n",
    "        print ((i*2-1), end=' ')\n",
    "        j=j+1\n",
    "    i=i+1\n",
    "    print ('')"
   ]
  },
  {
   "cell_type": "code",
   "execution_count": 5,
   "metadata": {},
   "outputs": [
    {
     "name": "stdout",
     "output_type": "stream",
     "text": [
      "Enter the no. of rows you want to print:6\n",
      "1 \n",
      "2 1 \n",
      "3 2 1 \n",
      "4 3 2 1 \n",
      "5 4 3 2 1 \n"
     ]
    }
   ],
   "source": [
    "'''4. Reverse the pattern\n",
    "1 \n",
    "2 1 \n",
    "3 2 1 \n",
    "4 3 2 1 \n",
    "5 4 3 2 1 \n",
    "'''\n",
    "\n",
    "rows = int(input('Enter the no. of rows you want to print:'))\n",
    "for i in range (1,rows):\n",
    "    for j in range(i,0,-1):\n",
    "        print (j,end=' ')\n",
    "    print ('')"
   ]
  },
  {
   "cell_type": "code",
   "execution_count": 6,
   "metadata": {},
   "outputs": [
    {
     "name": "stdout",
     "output_type": "stream",
     "text": [
      "1 \n",
      "3 2 \n",
      "6 5 4 \n",
      "10 9 8 7 \n"
     ]
    }
   ],
   "source": [
    "'''5. Reverse the pattern from 10-1\n",
    "1 \n",
    "3 2 \n",
    "6 5 4 \n",
    "10 9 8 7 \n",
    "'''\n",
    "\n",
    "start=1\n",
    "end=2\n",
    "curnum=end\n",
    "for row in range(2,6):\n",
    "    for col in range (start, end):\n",
    "        curnum-=1\n",
    "        print (curnum, end=' ')\n",
    "    print ('')\n",
    "    start=end\n",
    "    end+=row\n",
    "    curnum=end"
   ]
  },
  {
   "cell_type": "code",
   "execution_count": 7,
   "metadata": {},
   "outputs": [
    {
     "name": "stdout",
     "output_type": "stream",
     "text": [
      "Enter the no. of rows you want to print:7\n",
      "1 \n",
      "1 1 \n",
      "1 2 1 \n",
      "1 3 3 1 \n",
      "1 4 6 4 1 \n",
      "1 5 10 10 5 1 \n",
      "1 6 15 20 15 6 1 \n"
     ]
    }
   ],
   "source": [
    "'''6. Pascal's triangle pattern\n",
    "1 \n",
    "1 1 \n",
    "1 2 1 \n",
    "1 3 3 1 \n",
    "1 4 6 4 1 \n",
    "1 5 10 10 5 1 \n",
    "1 6 15 20 15 6 1 \n",
    "'''\n",
    "\n",
    "def pascal (size):\n",
    "    for i in range (0,size):\n",
    "        for j in range (0,i+1):\n",
    "            print (mainnum(i,j), end=' ')\n",
    "        print ('')\n",
    "        \n",
    "def mainnum(n,k):\n",
    "    num = 1\n",
    "    if k>n-k:\n",
    "        k=n-k\n",
    "    for i in range (0,k):\n",
    "        num=num*(n-i)\n",
    "        num=num//(i+1)\n",
    "    return num\n",
    "        \n",
    "rows = int(input('Enter the no. of rows you want to print:'))\n",
    "pascal (rows)"
   ]
  },
  {
   "cell_type": "code",
   "execution_count": 8,
   "metadata": {},
   "outputs": [
    {
     "name": "stdout",
     "output_type": "stream",
     "text": [
      "Enter the no. of rows you want to print:5\n",
      "1 2 3 4 5 \n",
      "2 2 3 4 5 \n",
      "3 3 3 4 5 \n",
      "4 4 4 4 5 \n",
      "5 5 5 5 5 \n"
     ]
    }
   ],
   "source": [
    "'''7. square pattern\n",
    "1 2 3 4 5 \n",
    "2 2 3 4 5 \n",
    "3 3 3 4 5 \n",
    "4 4 4 4 5 \n",
    "5 5 5 5 5 \n",
    "'''\n",
    "\n",
    "rows = int(input('Enter the no. of rows you want to print:'))\n",
    "for i in range (1, rows+1):\n",
    "    for j in range (1, rows+1):\n",
    "        if j<=i:\n",
    "            print (i, end= ' ')\n",
    "        else: \n",
    "            print (j, end=' ')\n",
    "    print ('\\r')"
   ]
  },
  {
   "cell_type": "code",
   "execution_count": 9,
   "metadata": {},
   "outputs": [
    {
     "name": "stdout",
     "output_type": "stream",
     "text": [
      "Enter the no. of rows you want to print:8\n",
      "1 \n",
      "2 4 \n",
      "3 6 9 \n",
      "4 8 12 16 \n",
      "5 10 15 20 25 \n",
      "6 12 18 24 30 36 \n",
      "7 14 21 28 35 42 49 \n",
      "8 16 24 32 40 48 56 64 \n"
     ]
    }
   ],
   "source": [
    "'''8. Multiplication Pattern\n",
    "1 \n",
    "2 4 \n",
    "3 6 9 \n",
    "4 8 12 16 \n",
    "5 10 15 20 25 \n",
    "6 12 18 24 30 36 \n",
    "7 14 21 28 35 42 49 \n",
    "8 16 24 32 40 48 56 64 \n",
    "'''\n",
    "\n",
    "rows = int(input('Enter the no. of rows you want to print:'))\n",
    "for i in range(1, rows+1):\n",
    "    for j in range(1, i+1):\n",
    "        print (i*j, end=' ')\n",
    "    print()"
   ]
  },
  {
   "cell_type": "code",
   "execution_count": 10,
   "metadata": {},
   "outputs": [
    {
     "name": "stdout",
     "output_type": "stream",
     "text": [
      "Enter the no. of rows you want to print: 6\n",
      "* * * * * * \n",
      " * * * * * \n",
      "  * * * * \n",
      "   * * * \n",
      "    * * \n",
      "     * \n"
     ]
    }
   ],
   "source": [
    "'''9. Asterisk Pattern-1\n",
    "* * * * * * \n",
    " * * * * * \n",
    "  * * * * \n",
    "   * * * \n",
    "    * * \n",
    "     * \n",
    "'''\n",
    "\n",
    "rows= int(input('Enter the no. of rows you want to print: '))\n",
    "for i in range (6,0,-1):\n",
    "    for j in range (6,0,-1):\n",
    "        if i>=j:\n",
    "            print('*', end= \" \")\n",
    "        else:\n",
    "            print('', end=\" \")\n",
    "    print('')"
   ]
  },
  {
   "cell_type": "code",
   "execution_count": 11,
   "metadata": {},
   "outputs": [
    {
     "name": "stdout",
     "output_type": "stream",
     "text": [
      "Enter the no. of rows you want to print: 8\n",
      "        \n",
      "       * \n",
      "      * * \n",
      "     * * * \n",
      "    * * * * \n",
      "   * * * * * \n",
      "  * * * * * * \n",
      " * * * * * * * \n"
     ]
    }
   ],
   "source": [
    "'''10. Equilateral triangle using Asterisks\n",
    "       * \n",
    "      * * \n",
    "     * * * \n",
    "    * * * * \n",
    "   * * * * * \n",
    "  * * * * * * \n",
    " * * * * * * * \n",
    "'''\n",
    "\n",
    "rows= int(input('Enter the no. of rows you want to print: '))\n",
    "for i in range (0, rows):\n",
    "    for j in range (8,0,-1):\n",
    "        if i>=j:\n",
    "            print('*', end= \" \")\n",
    "        else:\n",
    "            print('', end=\" \")\n",
    "    print('')"
   ]
  },
  {
   "cell_type": "code",
   "execution_count": 12,
   "metadata": {},
   "outputs": [
    {
     "name": "stdout",
     "output_type": "stream",
     "text": [
      "Enter the no. of rows you want to print:6\n",
      "* \n",
      "* * \n",
      "* * * \n",
      "* * * * \n",
      "* * * * * \n",
      "* * * * * * \n",
      "\n",
      "* * * * * * \n",
      "* * * * * \n",
      "* * * * \n",
      "* * * \n",
      "* * \n",
      "* \n",
      "\n"
     ]
    }
   ],
   "source": [
    "'''11. Asterisk Pattern-2\n",
    "* \n",
    "* * \n",
    "* * * \n",
    "* * * * \n",
    "* * * * * \n",
    "* * * * * * \n",
    "\n",
    "* * * * * * \n",
    "* * * * * \n",
    "* * * * \n",
    "* * * \n",
    "* * \n",
    "* \n",
    "'''\n",
    "\n",
    "rows = int(input('Enter the no. of rows you want to print:'))\n",
    "for i in range(0, rows):\n",
    "    for j in range(0, i + 1):\n",
    "        print('*', end=' ')\n",
    "    print('')\n",
    "\n",
    "print('')\n",
    "\n",
    "for i in range(rows+1,0,-1):\n",
    "    for j in range(0,i-1):\n",
    "        print('*', end=' ')\n",
    "    print('')"
   ]
  },
  {
   "cell_type": "code",
   "execution_count": 13,
   "metadata": {},
   "outputs": [
    {
     "name": "stdout",
     "output_type": "stream",
     "text": [
      "Enter the no. of rows you want to print:5\n",
      "* \n",
      "* * \n",
      "* * * \n",
      "* * * * \n",
      "* * * * * \n",
      "* * * * \n",
      "* * * \n",
      "* * \n",
      "* \n",
      "\n"
     ]
    }
   ],
   "source": [
    "'''12. Asterisk pattern Right Triangle\n",
    "* \n",
    "* * \n",
    "* * * \n",
    "* * * * \n",
    "* * * * * \n",
    "* * * * \n",
    "* * * \n",
    "* * \n",
    "* \n",
    "'''\n",
    "\n",
    "rows= int(input('Enter the no. of rows you want to print:'))\n",
    "for i in range(0,rows):\n",
    "    for j in range(0, i+1):\n",
    "        print ('*', end=' ')\n",
    "    print ('')\n",
    "    \n",
    "for i in range(rows,0,-1):\n",
    "    for j in range(0,i-1):\n",
    "        print ('*', end=' ')\n",
    "    print ('')"
   ]
  },
  {
   "cell_type": "code",
   "execution_count": 14,
   "metadata": {},
   "outputs": [
    {
     "name": "stdout",
     "output_type": "stream",
     "text": [
      "Enter the no. of rows you want to print:5\n",
      "        * \n",
      "      * * \n",
      "    * * * \n",
      "  * * * * \n",
      "* * * * * \n",
      "  * * * * \n",
      "    * * * \n",
      "      * * \n",
      "        * \n"
     ]
    }
   ],
   "source": [
    "'''13. Asterisk Pattern Left Triangle\n",
    "        * \n",
    "      * * \n",
    "    * * * \n",
    "  * * * * \n",
    "* * * * * \n",
    "  * * * * \n",
    "    * * * \n",
    "      * * \n",
    "        * \n",
    "'''\n",
    "\n",
    "rows= int(input('Enter the no. of rows you want to print:'))\n",
    "for i in range(1,rows+1):\n",
    "    for j in range (5,0,-1):\n",
    "        if i>=j:\n",
    "            print('*', end=' ')\n",
    "        else:\n",
    "            print(' ', end=' ')\n",
    "    print()\n",
    "    \n",
    "for i in range(rows-1,0,-1):\n",
    "    for j in range(5,0,-1):\n",
    "        if i>=j:\n",
    "            print('*', end=' ')\n",
    "        else:\n",
    "            print(' ',end=' ')\n",
    "    print('')"
   ]
  },
  {
   "cell_type": "code",
   "execution_count": 15,
   "metadata": {},
   "outputs": [
    {
     "name": "stdout",
     "output_type": "stream",
     "text": [
      "Enter the no. of rows you want to print: 5\n",
      "* * * * * \n",
      " * * * * \n",
      "  * * * \n",
      "   * * \n",
      "    * \n",
      "   * * \n",
      "  * * * \n",
      " * * * * \n",
      "* * * * * \n"
     ]
    }
   ],
   "source": [
    "'''14. Sandglass Pattern of Asterisks\n",
    "* * * * * \n",
    " * * * * \n",
    "  * * * \n",
    "   * * \n",
    "    * \n",
    "   * * \n",
    "  * * * \n",
    " * * * * \n",
    "* * * * * \n",
    "'''\n",
    "\n",
    "rows=int(input('Enter the no. of rows you want to print: '))\n",
    "for i in range(rows,0,-1):\n",
    "    for j in range(4,-1,-1):\n",
    "        if j>=i:\n",
    "            print(' ', end= '')\n",
    "        else:\n",
    "            print('* ', end='')\n",
    "    print()\n",
    "for j in range(3,-1,-1):\n",
    "    for i in range(1,rows+1):\n",
    "        if i<=j:\n",
    "            print(' ', end='')\n",
    "        else:\n",
    "            print('* ', end='')\n",
    "    print()"
   ]
  },
  {
   "cell_type": "code",
   "execution_count": 16,
   "metadata": {},
   "outputs": [
    {
     "name": "stdout",
     "output_type": "stream",
     "text": [
      "Enter the no. of rows you want to print: 8\n",
      "****************\n",
      "*******__*******\n",
      "******____******\n",
      "*****______*****\n",
      "****________****\n",
      "***__________***\n",
      "**____________**\n",
      "*______________*\n"
     ]
    }
   ],
   "source": [
    "'''15. Special Pattern\n",
    "****************\n",
    "*******__*******\n",
    "******____******\n",
    "*****______*****\n",
    "****________****\n",
    "***__________***\n",
    "**____________**\n",
    "*______________*\n",
    "'''\n",
    "\n",
    "rows=int(input('Enter the no. of rows you want to print: '))\n",
    "for i in range(rows,0,-1):\n",
    "    for j in range(i,0,-1):\n",
    "        print('*', end='')\n",
    "    for k in range(rows,i,-1):\n",
    "        print('_'*2, end='')\n",
    "    for l in range(0,i):\n",
    "        print('*', end='')\n",
    "    print()"
   ]
  },
  {
   "cell_type": "code",
   "execution_count": null,
   "metadata": {},
   "outputs": [],
   "source": []
  }
 ],
 "metadata": {
  "kernelspec": {
   "display_name": "Python 3",
   "language": "python",
   "name": "python3"
  },
  "language_info": {
   "codemirror_mode": {
    "name": "ipython",
    "version": 3
   },
   "file_extension": ".py",
   "mimetype": "text/x-python",
   "name": "python",
   "nbconvert_exporter": "python",
   "pygments_lexer": "ipython3",
   "version": "3.8.5"
  }
 },
 "nbformat": 4,
 "nbformat_minor": 4
}
